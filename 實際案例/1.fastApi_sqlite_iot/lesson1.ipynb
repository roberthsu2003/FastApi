{
 "cells": [
  {
   "cell_type": "code",
   "execution_count": 1,
   "metadata": {},
   "outputs": [
    {
     "name": "stdout",
     "output_type": "stream",
     "text": [
      "[(1108, '2023-06-29 11:19:47', 26.0, 0.010258915486077269), (1107, '2023-06-29 11:19:41', 25.0, 0.022960429897410872), (1106, '2023-06-29 11:19:36', 25.0, 0.05520273571079626), (1105, '2023-06-29 11:19:30', 27.0, 0.07962872496336093), (1104, '2023-06-29 11:19:25', 27.0, 0.08451392281387404)]\n"
     ]
    }
   ],
   "source": [
    "import sqlite3\n",
    "from sqlite3 import Error\n",
    "from sqlite3 import Connection\n",
    "\n",
    "def create_connection(db_file:str) -> Connection | None:\n",
    "    conn = None\n",
    "    try:\n",
    "        conn = sqlite3.connect(db_file)\n",
    "    except Error as e:\n",
    "        print(e)\n",
    "\n",
    "    return conn\n",
    "\n",
    "def create_table(conn:Connection):\n",
    "    sql_tasks = \"\"\"\n",
    "    CREATE TABLE IF NOT EXISTS iot1(\n",
    "        id INTEGER PRIMARY KEY AUTOINCREMENT,\n",
    "        date TEXT NOT NULL,\n",
    "        light REAL NOT NULL,\n",
    "        temperature REAL NOT NULL\n",
    "    );\n",
    "    \"\"\"\n",
    "\n",
    "    try:\n",
    "        cursor = conn.cursor()\n",
    "        cursor.execute(sql_tasks)\n",
    "    except:\n",
    "        print(\"error\")\n",
    "\n",
    "def select_all_tasks(conn:Connection,count:int):\n",
    "    sql = f\"\"\"\n",
    "        SELECT  * FROM iot1\n",
    "        ORDER by date DESC\n",
    "        LIMIT {count}\n",
    "    \"\"\"\n",
    "    cursor = conn.cursor()\n",
    "    cursor.execute(sql)\n",
    "    rows = cursor.fetchall()\n",
    "    return rows\n",
    "\n",
    "conn = create_connection('data.db')\n",
    "if conn is not None:\n",
    "    create_table(conn)\n",
    "    rows = select_all_tasks(conn, 5)  \n",
    "    print(rows)    \n",
    "    conn.close()"
   ]
  },
  {
   "cell_type": "code",
   "execution_count": 4,
   "metadata": {},
   "outputs": [],
   "source": [
    "import csv\n",
    "from fastapi.responses import FileResponse\n",
    "\n",
    "\n",
    "\n",
    "conn = create_connection('data.db')\n",
    "if conn is not None:\n",
    "    create_table(conn)\n",
    "    rows = select_all_tasks(conn, 5)  \n",
    "    with open('output.csv','w',encoding='utf8',newline='') as file:\n",
    "        csv_writer = csv.writer(file)\n",
    "        csv_writer.writerow(['時間','亮度','溫度'])\n",
    "        for row in rows:\n",
    "            csv_writer.writerow(row)     \n",
    "\n",
    "    conn.close()   \n",
    "#return FileResponse(\"output.csv\", media_type=\"text/csv\")\n",
    "    "
   ]
  }
 ],
 "metadata": {
  "kernelspec": {
   "display_name": "Python 3",
   "language": "python",
   "name": "python3"
  },
  "language_info": {
   "codemirror_mode": {
    "name": "ipython",
    "version": 3
   },
   "file_extension": ".py",
   "mimetype": "text/x-python",
   "name": "python",
   "nbconvert_exporter": "python",
   "pygments_lexer": "ipython3",
   "version": "3.10.12"
  },
  "orig_nbformat": 4
 },
 "nbformat": 4,
 "nbformat_minor": 2
}
